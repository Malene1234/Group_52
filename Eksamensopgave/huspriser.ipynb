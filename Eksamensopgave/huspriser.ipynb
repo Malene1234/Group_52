{
 "cells": [
  {
   "cell_type": "code",
   "execution_count": 7,
   "metadata": {},
   "outputs": [],
   "source": [
    "import scraping_class\n",
    "import requests\n",
    "import pandas as pd\n",
    "import json\n",
    "\n",
    "logfile = 'log.csv'## name your log file.\n",
    "connector = scraping_class.Connector(logfile)"
   ]
  },
  {
   "cell_type": "code",
   "execution_count": 12,
   "metadata": {},
   "outputs": [],
   "source": [
    "#Giver første side:\n",
    "#response = requests.get('https://api.boliga.dk/api/v2/search/results?pageSize=50&includeds=1')\n",
    "#response_json = response.json()\n",
    "#df1 = pd.DataFrame(response_json['results'])\n",
    "#df1"
   ]
  },
  {
   "cell_type": "code",
   "execution_count": 11,
   "metadata": {},
   "outputs": [],
   "source": [
    "#Giver alle sider:\n",
    "def read_json_houses(index):\n",
    "    urlbase = 'https://api.boliga.dk/api/v2/search/results?pageSize=50&includeds='\n",
    "    url = urlbase + str(index)\n",
    "    response = requests.get(url)\n",
    "    response_json = response.json()\n",
    "    return response_json\n",
    "\n",
    "pages = []\n",
    "for i in range(1, 1042):\n",
    "    pages.append(read_json_houses(i))\n",
    "    \n",
    "#df_houses.to_csv('houses.csv', index=False, sep=';')\n",
    "\n",
    "df_houses = pd.DataFrame(pages)"
   ]
  },
  {
   "cell_type": "code",
   "execution_count": 9,
   "metadata": {},
   "outputs": [
    {
     "name": "stdout",
     "output_type": "stream",
     "text": [
      "                                                   meta  \\\n",
      "0     {'searchGuid': '9522ccfb-c3ad-4750-8881-79d322...   \n",
      "1     {'searchGuid': '3d9a9da2-d001-4a1e-9004-8ce8b5...   \n",
      "2     {'searchGuid': '5519e204-caf2-482e-a92e-717446...   \n",
      "3     {'searchGuid': '492f298b-3e1e-4ec2-9424-505705...   \n",
      "4     {'searchGuid': '22d76f00-edc8-4a9c-b45b-17a76b...   \n",
      "...                                                 ...   \n",
      "1036  {'searchGuid': 'd590859c-a379-4524-910c-e3f16c...   \n",
      "1037  {'searchGuid': '008e1968-7b53-456d-ac44-715276...   \n",
      "1038  {'searchGuid': '5bef841b-e2ed-4b47-a307-b5e8e4...   \n",
      "1039  {'searchGuid': 'aa52c4d4-b1c5-49d8-8e2f-616fb2...   \n",
      "1040  {'searchGuid': '5aa901d0-4e8a-4125-bb96-e3a5e5...   \n",
      "\n",
      "                                                results  \n",
      "0     [{'id': 1676546, 'latitude': 55.68044, 'longit...  \n",
      "1     [{'id': 1676546, 'latitude': 55.68044, 'longit...  \n",
      "2     [{'id': 1676546, 'latitude': 55.68044, 'longit...  \n",
      "3     [{'id': 1676546, 'latitude': 55.68044, 'longit...  \n",
      "4     [{'id': 1676546, 'latitude': 55.68044, 'longit...  \n",
      "...                                                 ...  \n",
      "1036  [{'id': 1676546, 'latitude': 55.68044, 'longit...  \n",
      "1037  [{'id': 1676546, 'latitude': 55.68044, 'longit...  \n",
      "1038  [{'id': 1676546, 'latitude': 55.68044, 'longit...  \n",
      "1039  [{'id': 1676546, 'latitude': 55.68044, 'longit...  \n",
      "1040  [{'id': 1676546, 'latitude': 55.68044, 'longit...  \n",
      "\n",
      "[1041 rows x 2 columns]\n"
     ]
    }
   ],
   "source": [
    "print(df_houses)"
   ]
  },
  {
   "cell_type": "code",
   "execution_count": 5,
   "metadata": {},
   "outputs": [
    {
     "data": {
      "text/html": [
       "<div>\n",
       "<style scoped>\n",
       "    .dataframe tbody tr th:only-of-type {\n",
       "        vertical-align: middle;\n",
       "    }\n",
       "\n",
       "    .dataframe tbody tr th {\n",
       "        vertical-align: top;\n",
       "    }\n",
       "\n",
       "    .dataframe thead th {\n",
       "        text-align: right;\n",
       "    }\n",
       "</style>\n",
       "<table border=\"1\" class=\"dataframe\">\n",
       "  <thead>\n",
       "    <tr style=\"text-align: right;\">\n",
       "      <th></th>\n",
       "      <th>results</th>\n",
       "    </tr>\n",
       "  </thead>\n",
       "  <tbody>\n",
       "    <tr>\n",
       "      <th>0</th>\n",
       "      <td>[{'id': 1676546, 'latitude': 55.68044, 'longit...</td>\n",
       "    </tr>\n",
       "    <tr>\n",
       "      <th>1</th>\n",
       "      <td>[{'id': 1676546, 'latitude': 55.68044, 'longit...</td>\n",
       "    </tr>\n",
       "    <tr>\n",
       "      <th>2</th>\n",
       "      <td>[{'id': 1676546, 'latitude': 55.68044, 'longit...</td>\n",
       "    </tr>\n",
       "    <tr>\n",
       "      <th>3</th>\n",
       "      <td>[{'id': 1676546, 'latitude': 55.68044, 'longit...</td>\n",
       "    </tr>\n",
       "    <tr>\n",
       "      <th>4</th>\n",
       "      <td>[{'id': 1676546, 'latitude': 55.68044, 'longit...</td>\n",
       "    </tr>\n",
       "    <tr>\n",
       "      <th>...</th>\n",
       "      <td>...</td>\n",
       "    </tr>\n",
       "    <tr>\n",
       "      <th>1036</th>\n",
       "      <td>[{'id': 1676546, 'latitude': 55.68044, 'longit...</td>\n",
       "    </tr>\n",
       "    <tr>\n",
       "      <th>1037</th>\n",
       "      <td>[{'id': 1676546, 'latitude': 55.68044, 'longit...</td>\n",
       "    </tr>\n",
       "    <tr>\n",
       "      <th>1038</th>\n",
       "      <td>[{'id': 1676546, 'latitude': 55.68044, 'longit...</td>\n",
       "    </tr>\n",
       "    <tr>\n",
       "      <th>1039</th>\n",
       "      <td>[{'id': 1676546, 'latitude': 55.68044, 'longit...</td>\n",
       "    </tr>\n",
       "    <tr>\n",
       "      <th>1040</th>\n",
       "      <td>[{'id': 1676546, 'latitude': 55.68044, 'longit...</td>\n",
       "    </tr>\n",
       "  </tbody>\n",
       "</table>\n",
       "<p>1041 rows × 1 columns</p>\n",
       "</div>"
      ],
      "text/plain": [
       "                                                results\n",
       "0     [{'id': 1676546, 'latitude': 55.68044, 'longit...\n",
       "1     [{'id': 1676546, 'latitude': 55.68044, 'longit...\n",
       "2     [{'id': 1676546, 'latitude': 55.68044, 'longit...\n",
       "3     [{'id': 1676546, 'latitude': 55.68044, 'longit...\n",
       "4     [{'id': 1676546, 'latitude': 55.68044, 'longit...\n",
       "...                                                 ...\n",
       "1036  [{'id': 1676546, 'latitude': 55.68044, 'longit...\n",
       "1037  [{'id': 1676546, 'latitude': 55.68044, 'longit...\n",
       "1038  [{'id': 1676546, 'latitude': 55.68044, 'longit...\n",
       "1039  [{'id': 1676546, 'latitude': 55.68044, 'longit...\n",
       "1040  [{'id': 1676546, 'latitude': 55.68044, 'longit...\n",
       "\n",
       "[1041 rows x 1 columns]"
      ]
     },
     "execution_count": 5,
     "metadata": {},
     "output_type": "execute_result"
    }
   ],
   "source": [
    "#Udvælger kun resultater:\n",
    "#df_houses_results = pd.DataFrame(df_houses['results'])\n",
    "#df_houses_results"
   ]
  },
  {
   "cell_type": "code",
   "execution_count": null,
   "metadata": {},
   "outputs": [],
   "source": []
  }
 ],
 "metadata": {
  "kernelspec": {
   "display_name": "Python 3",
   "language": "python",
   "name": "python3"
  },
  "language_info": {
   "codemirror_mode": {
    "name": "ipython",
    "version": 3
   },
   "file_extension": ".py",
   "mimetype": "text/x-python",
   "name": "python",
   "nbconvert_exporter": "python",
   "pygments_lexer": "ipython3",
   "version": "3.7.6"
  }
 },
 "nbformat": 4,
 "nbformat_minor": 4
}
