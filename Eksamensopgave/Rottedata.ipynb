{
 "cells": [
  {
   "cell_type": "markdown",
   "metadata": {},
   "source": [
    "This program scrapes data from Bolius web article containing detailed information on detection of rat discovery on municipality level in Denmark. Saves scraped data in csv file."
   ]
  },
  {
   "cell_type": "code",
   "execution_count": 2,
   "metadata": {},
   "outputs": [
    {
     "name": "stdout",
     "output_type": "stream",
     "text": [
      "    komkode  f2007  f2008  f2009  f2010  f2011  f2012  f2013  f2014  f2015  \\\n",
      "0       165    276    557    432    352    406    386    335    357    353   \n",
      "1       201    762    734    411    393    388    557    544    561    568   \n",
      "2       420   2975   3867   2319   2211   2115   3541   2635   2716   3214   \n",
      "3       151    332    740    541    550    549    641    520    593    862   \n",
      "4       530    842    630    528    482    516    689    768    887    956   \n",
      "..      ...    ...    ...    ...    ...    ...    ...    ...    ...    ...   \n",
      "93      390   3113   3258   2716   2347   2270   2878   2482   2956   3295   \n",
      "94      492    997    928    672    539    391    734    430    651    910   \n",
      "95      580   2524   1961   1747   2349   1851   2692   2395   2472   3854   \n",
      "96      851   2954   3400   2635   2495   2654   3402   3134   3786   4308   \n",
      "97      751   5254   6104   4320   4592   5084   6159   5299   6713   6817   \n",
      "\n",
      "    ...   avg  total   min  mintime   max maxtime  maxincrease  \\\n",
      "0   ...   430   5157   276     2007   626    2018          281   \n",
      "1   ...   655   7856   388     2011  1186    2018          258   \n",
      "2   ...  2852  34222  2115     2011  3867    2008         1426   \n",
      "3   ...   779   9348   332     2007  1572    2018          408   \n",
      "4   ...   757   9080   482     2010  1008    2017          173   \n",
      "..  ...   ...    ...   ...      ...   ...     ...          ...   \n",
      "93  ...  3030  36354  2270     2011  5815    2016         2520   \n",
      "94  ...   736   8835   346     2018  1296    2016          386   \n",
      "95  ...  2353  28241  1391     2018  3854    2015         1382   \n",
      "96  ...  3673  44081  2495     2010  5340    2017          748   \n",
      "97  ...  6032  72382  4320     2009  8611    2016         1794   \n",
      "\n",
      "    maxincreasetime  maxdecrease  maxdecreasetime  \n",
      "0              2008         -125             2009  \n",
      "1              2017         -323             2009  \n",
      "2              2012        -1548             2009  \n",
      "3              2008         -199             2009  \n",
      "4              2012         -212             2008  \n",
      "..              ...          ...              ...  \n",
      "93             2016        -3240             2017  \n",
      "94             2016         -595             2018  \n",
      "95             2015         -921             2016  \n",
      "96             2012         -765             2009  \n",
      "97             2016        -2219             2017  \n",
      "\n",
      "[98 rows x 26 columns]\n"
     ]
    }
   ],
   "source": [
    "import requests\n",
    "import pandas as pd\n",
    "\n",
    "def read_json_municipality(index):\n",
    "    urlbase = 'https://cartocdn-gusc.global.ssl.fastly.net/bolius/api/v1/map/bolius@8020f234@9aa6fcfcab623d56b7f7d1e5b7f5d73d:1573479836497/1/attributes/'\n",
    "    url = urlbase + str(index)\n",
    "    response = requests.get(url)\n",
    "    return response.json()\n",
    "\n",
    "row_list = []\n",
    "for i in range(1, 99):\n",
    "    row_list.append(read_json_municipality(i))\n",
    "\n",
    "df_rottedata = pd.DataFrame(row_list)\n",
    "\n",
    "#df_rottedata.to_csv('rottedata.csv', index=False, sep=';')\n",
    "\n",
    "print(df_rottedata)"
   ]
  },
  {
   "cell_type": "code",
   "execution_count": null,
   "metadata": {},
   "outputs": [],
   "source": []
  }
 ],
 "metadata": {
  "kernelspec": {
   "display_name": "Python 3",
   "language": "python",
   "name": "python3"
  },
  "language_info": {
   "codemirror_mode": {
    "name": "ipython",
    "version": 3
   },
   "file_extension": ".py",
   "mimetype": "text/x-python",
   "name": "python",
   "nbconvert_exporter": "python",
   "pygments_lexer": "ipython3",
   "version": "3.7.6"
  }
 },
 "nbformat": 4,
 "nbformat_minor": 4
}
